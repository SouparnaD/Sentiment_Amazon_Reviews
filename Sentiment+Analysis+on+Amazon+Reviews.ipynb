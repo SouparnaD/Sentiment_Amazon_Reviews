{
 "cells": [
  {
   "cell_type": "markdown",
   "metadata": {
    "collapsed": true
   },
   "source": [
    "# Amazon Fine Food Reviews Analysis\n"
   ]
  },
  {
   "cell_type": "code",
   "execution_count": 2,
   "metadata": {},
   "outputs": [
    {
     "data": {
      "text/html": [
       "<div>\n",
       "<style>\n",
       "    .dataframe thead tr:only-child th {\n",
       "        text-align: right;\n",
       "    }\n",
       "\n",
       "    .dataframe thead th {\n",
       "        text-align: left;\n",
       "    }\n",
       "\n",
       "    .dataframe tbody tr th {\n",
       "        vertical-align: top;\n",
       "    }\n",
       "</style>\n",
       "<table border=\"1\" class=\"dataframe\">\n",
       "  <thead>\n",
       "    <tr style=\"text-align: right;\">\n",
       "      <th></th>\n",
       "      <th>Id</th>\n",
       "      <th>ProductId</th>\n",
       "      <th>UserId</th>\n",
       "      <th>ProfileName</th>\n",
       "      <th>HelpfulnessNumerator</th>\n",
       "      <th>HelpfulnessDenominator</th>\n",
       "      <th>Score</th>\n",
       "      <th>Time</th>\n",
       "      <th>Summary</th>\n",
       "      <th>Text</th>\n",
       "    </tr>\n",
       "  </thead>\n",
       "  <tbody>\n",
       "    <tr>\n",
       "      <th>0</th>\n",
       "      <td>1</td>\n",
       "      <td>B001E4KFG0</td>\n",
       "      <td>A3SGXH7AUHU8GW</td>\n",
       "      <td>delmartian</td>\n",
       "      <td>1.0</td>\n",
       "      <td>1.0</td>\n",
       "      <td>5.0</td>\n",
       "      <td>1.303862e+09</td>\n",
       "      <td>Good Quality Dog Food</td>\n",
       "      <td>I have bought several of the Vitality canned d...</td>\n",
       "    </tr>\n",
       "    <tr>\n",
       "      <th>1</th>\n",
       "      <td>2</td>\n",
       "      <td>B00813GRG4</td>\n",
       "      <td>A1D87F6ZCVE5NK</td>\n",
       "      <td>dll pa</td>\n",
       "      <td>0.0</td>\n",
       "      <td>0.0</td>\n",
       "      <td>1.0</td>\n",
       "      <td>1.346976e+09</td>\n",
       "      <td>Not as Advertised</td>\n",
       "      <td>Product arrived labeled as Jumbo Salted Peanut...</td>\n",
       "    </tr>\n",
       "    <tr>\n",
       "      <th>2</th>\n",
       "      <td>3</td>\n",
       "      <td>B000LQOCH0</td>\n",
       "      <td>ABXLMWJIXXAIN</td>\n",
       "      <td>Natalia Corres \"Natalia Corres\"</td>\n",
       "      <td>1.0</td>\n",
       "      <td>1.0</td>\n",
       "      <td>4.0</td>\n",
       "      <td>1.219018e+09</td>\n",
       "      <td>\"Delight\" says it all</td>\n",
       "      <td>This is a confection that has been around a fe...</td>\n",
       "    </tr>\n",
       "    <tr>\n",
       "      <th>3</th>\n",
       "      <td>4</td>\n",
       "      <td>B000UA0QIQ</td>\n",
       "      <td>A395BORC6FGVXV</td>\n",
       "      <td>Karl</td>\n",
       "      <td>3.0</td>\n",
       "      <td>3.0</td>\n",
       "      <td>2.0</td>\n",
       "      <td>1.307923e+09</td>\n",
       "      <td>Cough Medicine</td>\n",
       "      <td>If you are looking for the secret ingredient i...</td>\n",
       "    </tr>\n",
       "    <tr>\n",
       "      <th>4</th>\n",
       "      <td>5</td>\n",
       "      <td>B006K2ZZ7K</td>\n",
       "      <td>A1UQRSCLF8GW1T</td>\n",
       "      <td>Michael D. Bigham \"M. Wassir\"</td>\n",
       "      <td>0.0</td>\n",
       "      <td>0.0</td>\n",
       "      <td>5.0</td>\n",
       "      <td>1.350778e+09</td>\n",
       "      <td>Great taffy</td>\n",
       "      <td>Great taffy at a great price.  There was a wid...</td>\n",
       "    </tr>\n",
       "  </tbody>\n",
       "</table>\n",
       "</div>"
      ],
      "text/plain": [
       "   Id   ProductId          UserId                      ProfileName  \\\n",
       "0   1  B001E4KFG0  A3SGXH7AUHU8GW                       delmartian   \n",
       "1   2  B00813GRG4  A1D87F6ZCVE5NK                           dll pa   \n",
       "2   3  B000LQOCH0   ABXLMWJIXXAIN  Natalia Corres \"Natalia Corres\"   \n",
       "3   4  B000UA0QIQ  A395BORC6FGVXV                             Karl   \n",
       "4   5  B006K2ZZ7K  A1UQRSCLF8GW1T    Michael D. Bigham \"M. Wassir\"   \n",
       "\n",
       "   HelpfulnessNumerator  HelpfulnessDenominator  Score          Time  \\\n",
       "0                   1.0                     1.0    5.0  1.303862e+09   \n",
       "1                   0.0                     0.0    1.0  1.346976e+09   \n",
       "2                   1.0                     1.0    4.0  1.219018e+09   \n",
       "3                   3.0                     3.0    2.0  1.307923e+09   \n",
       "4                   0.0                     0.0    5.0  1.350778e+09   \n",
       "\n",
       "                 Summary                                               Text  \n",
       "0  Good Quality Dog Food  I have bought several of the Vitality canned d...  \n",
       "1      Not as Advertised  Product arrived labeled as Jumbo Salted Peanut...  \n",
       "2  \"Delight\" says it all  This is a confection that has been around a fe...  \n",
       "3         Cough Medicine  If you are looking for the secret ingredient i...  \n",
       "4            Great taffy  Great taffy at a great price.  There was a wid...  "
      ]
     },
     "execution_count": 2,
     "metadata": {},
     "output_type": "execute_result"
    }
   ],
   "source": [
    "import pandas as pd\n",
    "import warnings\n",
    "warnings.filterwarnings(\"ignore\")\n",
    "import seaborn as sns\n",
    "import matplotlib.pyplot as plt\n",
    "sns.set(style=\"white\", color_codes=True)\n",
    "reviews = pd.read_csv(\"Reviews.csv\")\n",
    "reviews.head()"
   ]
  },
  {
   "cell_type": "code",
   "execution_count": 3,
   "metadata": {},
   "outputs": [
    {
     "data": {
      "image/png": "[encoded data removed]",
      "text/plain": [
       "<matplotlib.figure.Figure at 0x63bbcc0>"
      ]
     },
     "metadata": {},
     "output_type": "display_data"
    }
   ],
   "source": [
    "import numpy as np\n",
    "import pylab as py\n",
    "score= np.array(reviews['Score'])\n",
    "import math\n",
    "new_score= [value for value in score if not math.isnan(value)]\n",
    "plt.hist(new_score)\n",
    "plt.title(\"score histogram\")\n",
    "plt.xlabel(\"scores\")\n",
    "plt.ylabel(\"frequency\")\n",
    "plt.show()"
   ]
  },
  {
   "cell_type": "markdown",
   "metadata": {},
   "source": [
    "This histogram shows that the 5 star or positive revies are the most common. "
   ]
  },
  {
   "cell_type": "code",
   "execution_count": 4,
   "metadata": {},
   "outputs": [
    {
     "data": {
      "text/plain": [
       "(0, 200)"
      ]
     },
     "execution_count": 4,
     "metadata": {},
     "output_type": "execute_result"
    },
    {
     "data": {
      "image/png": "[encoded data removed]",
      "text/plain": [
       "<matplotlib.figure.Figure at 0x114a5860>"
      ]
     },
     "metadata": {},
     "output_type": "display_data"
    }
   ],
   "source": [
    "%matplotlib inline\n",
    "count_words=reviews['Text'].str.split().str.len()\n",
    "scores= reviews['Score']\n",
    "df=pd.concat([scores,count_words], axis=1)\n",
    "df.columns=['Score','len']\n",
    "sns.boxplot(x=\"Score\",y=\"len\",data=df)\n",
    "plt.ylim(0,200)"
   ]
  },
  {
   "cell_type": "markdown",
   "metadata": {},
   "source": [
    "If you see the Boxplots, the size of the review of 5 stars are less "
   ]
  },
  {
   "cell_type": "code",
   "execution_count": 5,
   "metadata": {},
   "outputs": [
    {
     "data": {
      "text/plain": [
       "(0, 200)"
      ]
     },
     "execution_count": 5,
     "metadata": {},
     "output_type": "execute_result"
    },
    {
     "data": {
      "image/png": "[encoded data removed]",
      "text/plain": [
       "<matplotlib.figure.Figure at 0x11499e10>"
      ]
     },
     "metadata": {},
     "output_type": "display_data"
    }
   ],
   "source": [
    "helpfact=[]\n",
    "helpfulnessfactor= reviews['HelpfulnessNumerator']/reviews['HelpfulnessDenominator']\n",
    "for i in helpfulnessfactor:\n",
    "    if i>=0.50:\n",
    "        helpfact.append(1)\n",
    "    if i<0.50 and i>=0.25:\n",
    "        helpfact.append(0.5)\n",
    "    if i<0.25 :\n",
    "        helpfact.append(0)\n",
    "helpfulnessfactor1=pd.DataFrame(helpfact)\n",
    "df1=pd.concat([helpfulnessfactor1,count_words],axis=1)\n",
    "df1.columns=['help','len']\n",
    "sns.boxplot(x='help',y='len',data=df1)\n",
    "plt.ylim(0,200)"
   ]
  },
  {
   "cell_type": "markdown",
   "metadata": {},
   "source": [
    "If you see the boxplots the numbers omn the X axis says: `0.0:less than 25% found helpful\n",
    "0.5 says 25% to 50 % thinks this helpful. 1.0 says that more than 50% found this helpful`\n",
    "so the longer reviews tends to be slightly more helpful"
   ]
  },
  {
   "cell_type": "code",
   "execution_count": 6,
   "metadata": {},
   "outputs": [
    {
     "data": {
      "text/plain": [
       "<matplotlib.axes._subplots.AxesSubplot at 0x15faa518>"
      ]
     },
     "execution_count": 6,
     "metadata": {},
     "output_type": "execute_result"
    },
    {
     "data": {
      "image/png": "[encoded data removed]",
      "text/plain": [
       "<matplotlib.figure.Figure at 0x1767f668>"
      ]
     },
     "metadata": {},
     "output_type": "display_data"
    }
   ],
   "source": [
    "df2=pd.concat([helpfulnessfactor,scores],axis=1)\n",
    "df2.columns=['helpfact','score']\n",
    "sns.violinplot(x='score',y='helpfact',data=df2)"
   ]
  },
  {
   "cell_type": "markdown",
   "metadata": {},
   "source": [
    "this plot clearly shows that the positive reviews are found more helpful as the width of the violin plot is highest at rating=5"
   ]
  },
  {
   "cell_type": "code",
   "execution_count": 7,
   "metadata": {
    "collapsed": true
   },
   "outputs": [],
   "source": [
    "import sqlite3\n",
    "conn=sqlite3.connect(\"database.sqlite\")\n",
    "cur=conn.cursor()\n",
    "cur.execute('select USerID, Summary, Text, Score, HelpfulnessNumerator,HelpfulnessDenominator from reviews where UserID in(select UserID as UserId  from reviews group by UserID having count(UserID)>50)')\n",
    "freq_reviewer=pd.DataFrame(cur.fetchall())\n",
    "freq_reviewer.columns=['UserId','Summary','Text','Score','HelpfulnessNumerator','HelpfulnessDenominator']\n",
    "cur.execute('select UserID, Summary, Text, Score, HelpfulnessNumerator, HelpfulnessDenominator from reviews where UserID not in(select USerID from reviews where UserID in(select UserID as UserId  from reviews group by UserID having count(UserID)>50))')\n",
    "non_freq_reviewer=pd.DataFrame(cur.fetchall())\n",
    "non_freq_reviewer.columns=['UserId','Summary','Text','Score','HelpfulnessNumerator','HelpfulnessDenominator']"
   ]
  },
  {
   "cell_type": "code",
   "execution_count": 8,
   "metadata": {},
   "outputs": [
    {
     "data": {
      "image/png": "[encoded data removed]",
      "text/plain": [
       "<matplotlib.figure.Figure at 0x3c2dff98>"
      ]
     },
     "metadata": {},
     "output_type": "display_data"
    }
   ],
   "source": [
    "from matplotlib import pyplot\n",
    "freq_reviewer_score=np.array(freq_reviewer['Score'])\n",
    "non_freq_reviewer_score=np.array(non_freq_reviewer['Score'])\n",
    "colors=['blue','green']\n",
    "labels=['non_freq_reviewer_score','freq_reviewer_score']\n",
    "plt.hist([non_freq_reviewer_score,freq_reviewer_score],color=colors,label=labels,normed=True)\n",
    "plt.xlabel('scores')\n",
    "plt.ylabel('density')\n",
    "plt.show()"
   ]
  },
  {
   "cell_type": "markdown",
   "metadata": {},
   "source": [
    "the blue color indicates the non frequent reviewers while the green color is for frequent reviewers. It says that the frequent reviewers are discerning on their ratings as they give less 5 star reviews and more 3 star and 4 star reviews than the non-frequent reviewers."
   ]
  },
  {
   "cell_type": "code",
   "execution_count": 36,
   "metadata": {
    "collapsed": true
   },
   "outputs": [],
   "source": [
    "freq_reviewer_length= freq_reviewer['Text'].str.split().str.len()\n"
   ]
  },
  {
   "cell_type": "code",
   "execution_count": 37,
   "metadata": {
    "collapsed": true
   },
   "outputs": [],
   "source": [
    "non_freq_reviewer_length=non_freq_reviewer['Text'].str.split().str.len()"
   ]
  },
  {
   "cell_type": "code",
   "execution_count": 41,
   "metadata": {
    "collapsed": true
   },
   "outputs": [],
   "source": [
    "freq_reviewer_length_df=pd.DataFrame(freq_reviewer_length)\n",
    "non_freq_reviewer_length_df=pd.DataFrame(non_freq_reviewer_length)"
   ]
  },
  {
   "cell_type": "code",
   "execution_count": 55,
   "metadata": {},
   "outputs": [
    {
     "data": {
      "text/plain": [
       "(0, 400)"
      ]
     },
     "execution_count": 55,
     "metadata": {},
     "output_type": "execute_result"
    },
    {
     "data": {
      "image/png": "[encoded data removed]",
      "text/plain": [
       "<matplotlib.figure.Figure at 0x897e1198>"
      ]
     },
     "metadata": {},
     "output_type": "display_data"
    }
   ],
   "source": [
    "frames=[freq_reviewer_length_df,non_freq_reviewer_length_df]\n",
    "df2=pd.concat(frames)\n",
    "sns.violinplot(x='value',y='length',data=df2)\n",
    "plt.ylim(0,400)"
   ]
  },
  {
   "cell_type": "markdown",
   "metadata": {},
   "source": [
    "this violin plot clearly says that the frequent reviewers i.e the green plot is wider for higher values that means that the frequent reviewers usually write longer reviews"
   ]
  },
  {
   "cell_type": "code",
   "execution_count": 61,
   "metadata": {
    "collapsed": true
   },
   "outputs": [],
   "source": [
    "helpfact_freq=[]\n",
    "helpfulnessfactor_freq= freq_reviewer['HelpfulnessNumerator']/freq_reviewer['HelpfulnessDenominator']\n",
    "for i in helpfulnessfactor_freq:\n",
    "    if i>=0.50:\n",
    "        helpfact_freq.append(1)\n",
    "    if i<0.50 and i>=0.25:\n",
    "        helpfact_freq.append(0.5)\n",
    "    if i<0.25 :\n",
    "        helpfact_freq.append(0)\n",
    "helpfulnessfactor_freq1=np.array(helpfact_freq)\n",
    "helpfact_nonfreq=[]\n",
    "helpfulnessfactor_nonfreq= non_freq_reviewer['HelpfulnessNumerator']/non_freq_reviewer['HelpfulnessDenominator']\n",
    "for i in helpfulnessfactor_nonfreq:\n",
    "    if i>=0.75:\n",
    "        helpfact_nonfreq.append(1)\n",
    "    if i<0.75 and i>=0.25:\n",
    "        helpfact_nonfreq.append(0.5)\n",
    "    if i<0.25 :\n",
    "        helpfact_nonfreq.append(0)\n",
    "helpfulnessfactor_nonfreq1=np.array(helpfact_nonfreq)"
   ]
  },
  {
   "cell_type": "code",
   "execution_count": 65,
   "metadata": {},
   "outputs": [
    {
     "data": {
      "text/plain": [
       "([array([ 0.30018165,  0.10467757,  2.59514078]),\n",
       "  array([ 0.3887724 ,  0.51281602,  2.09841159])],\n",
       " array([ 0.        ,  0.33333333,  0.66666667,  1.        ]),\n",
       " <a list of 2 Lists of Patches objects>)"
      ]
     },
     "execution_count": 65,
     "metadata": {},
     "output_type": "execute_result"
    },
    {
     "data": {
      "image/png": "[encoded data removed]",
      "text/plain": [
       "<matplotlib.figure.Figure at 0xaa80ff28>"
      ]
     },
     "metadata": {},
     "output_type": "display_data"
    }
   ],
   "source": [
    "plt.hist([helpfulnessfactor_freq1,helpfulnessfactor_nonfreq1],bins=3,alpha=0.9,normed=1)\n",
    "plt.xlabel('helpfulness factor')"
   ]
  },
  {
   "cell_type": "markdown",
   "metadata": {},
   "source": [
    "the blue bins are the frequent reviewers as you can see the frequent reviewers are found more helpful compared to the green bins which are of non frequent reviewers.\n"
   ]
  },
  {
   "cell_type": "code",
   "execution_count": 1,
   "metadata": {
    "scrolled": true
   },
   "outputs": [
    {
     "name": "stderr",
     "output_type": "stream",
     "text": [
      "C:\\Users\\USER\\Anaconda2\\lib\\site-packages\\sklearn\\cross_validation.py:44: DeprecationWarning: This module was deprecated in version 0.18 in favor of the model_selection module into which all the refactored classes and functions are moved. Also note that the interface of the new CV iterators are different from that of this module. This module will be removed in 0.20.\n",
      "  \"This module will be removed in 0.20.\", DeprecationWarning)\n"
     ]
    },
    {
     "name": "stdout",
     "output_type": "stream",
     "text": [
      "420651 items in training data, 105163 in test data\n"
     ]
    }
   ],
   "source": [
    "from sklearn.feature_extraction.text import TfidfTransformer\n",
    "from sklearn.feature_extraction.text import CountVectorizer\n",
    "from sklearn.cross_validation import train_test_split\n",
    "from sklearn.metrics import confusion_matrix\n",
    "from sklearn import metrics\n",
    "from sklearn.metrics import roc_curve, auc\n",
    "from nltk.stem.porter import PorterStemmer\n",
    "import sqlite3\n",
    "import pandas as pd\n",
    "import re\n",
    "import string\n",
    "import nltk\n",
    "con = sqlite3.connect('database.sqlite')\n",
    "\n",
    "messages = pd.read_sql_query(\"\"\"\n",
    "SELECT Score, Summary,Text\n",
    "FROM reviews\n",
    "WHERE Score != 3\n",
    "\"\"\", con)\n",
    "messages[\"Sentiment\"] = messages[\"Score\"].apply(lambda score: \"positive\" if score > 3 else \"negative\")\n",
    "del messages['Score']\n",
    "Sentiment=messages['Sentiment']\n",
    "del messages['Sentiment']\n",
    "X_train, X_test,Y_train,Y_test = train_test_split(messages,Sentiment, test_size=0.2)\n",
    "print(\"%d items in training data, %d in test data\" % (len(X_train), len(X_test)))\n",
    "\n",
    "suma_train = list(X_train['Summary'])\n",
    "text_train = list(X_train['Text'])\n",
    "suma_test = list(X_test['Summary'])\n",
    "text_test = list(X_test['Text'])"
   ]
  },
  {
   "cell_type": "code",
   "execution_count": 2,
   "metadata": {},
   "outputs": [
    {
     "data": {
      "text/html": [
       "<div>\n",
       "<style>\n",
       "    .dataframe thead tr:only-child th {\n",
       "        text-align: right;\n",
       "    }\n",
       "\n",
       "    .dataframe thead th {\n",
       "        text-align: left;\n",
       "    }\n",
       "\n",
       "    .dataframe tbody tr th {\n",
       "        vertical-align: top;\n",
       "    }\n",
       "</style>\n",
       "<table border=\"1\" class=\"dataframe\">\n",
       "  <thead>\n",
       "    <tr style=\"text-align: right;\">\n",
       "      <th></th>\n",
       "      <th>Summary</th>\n",
       "      <th>Text</th>\n",
       "    </tr>\n",
       "  </thead>\n",
       "  <tbody>\n",
       "    <tr>\n",
       "      <th>313073</th>\n",
       "      <td>Do what it says</td>\n",
       "      <td>It definitely works.  Be sure to read the pack...</td>\n",
       "    </tr>\n",
       "    <tr>\n",
       "      <th>65947</th>\n",
       "      <td>Just as good as the more expensive salon shamp...</td>\n",
       "      <td>I use Bumble and Bumble (salon brand) and Dove...</td>\n",
       "    </tr>\n",
       "    <tr>\n",
       "      <th>313593</th>\n",
       "      <td>My mom loved it</td>\n",
       "      <td>I ordered this for my mom for her birthday. Sh...</td>\n",
       "    </tr>\n",
       "    <tr>\n",
       "      <th>469438</th>\n",
       "      <td>GROSS</td>\n",
       "      <td>I didnt like the after taste at all, way to sa...</td>\n",
       "    </tr>\n",
       "    <tr>\n",
       "      <th>520807</th>\n",
       "      <td>love it</td>\n",
       "      <td>Love single served cookies and they are a perf...</td>\n",
       "    </tr>\n",
       "    <tr>\n",
       "      <th>7890</th>\n",
       "      <td>smooth/rich</td>\n",
       "      <td>I like a dark rich coffee and this is a tad di...</td>\n",
       "    </tr>\n",
       "    <tr>\n",
       "      <th>328740</th>\n",
       "      <td>Dog dental chews</td>\n",
       "      <td>&lt;a href=\"http://www.amazon.com/gp/product/B000...</td>\n",
       "    </tr>\n",
       "    <tr>\n",
       "      <th>442509</th>\n",
       "      <td>My First Bonsai plant...</td>\n",
       "      <td>This is my first bonsai plant. I was wondering...</td>\n",
       "    </tr>\n",
       "    <tr>\n",
       "      <th>274470</th>\n",
       "      <td>2 dogs, both like it</td>\n",
       "      <td>I have 2 dogs and this product is used for 'tr...</td>\n",
       "    </tr>\n",
       "    <tr>\n",
       "      <th>266262</th>\n",
       "      <td>Never felt better</td>\n",
       "      <td>I looked into this product for a friend who ha...</td>\n",
       "    </tr>\n",
       "    <tr>\n",
       "      <th>422415</th>\n",
       "      <td>Healthy and Tastes Great!</td>\n",
       "      <td>Another great organic tomato product from Muir...</td>\n",
       "    </tr>\n",
       "    <tr>\n",
       "      <th>417036</th>\n",
       "      <td>Like eating a candy bar...that's mildly good f...</td>\n",
       "      <td>According to the package, these are 30% bigger...</td>\n",
       "    </tr>\n",
       "    <tr>\n",
       "      <th>350464</th>\n",
       "      <td>These are really good</td>\n",
       "      <td>These taste very decadent even though they are...</td>\n",
       "    </tr>\n",
       "    <tr>\n",
       "      <th>289996</th>\n",
       "      <td>YUMM!!</td>\n",
       "      <td>If you like Nougat and Almonds, then this is y...</td>\n",
       "    </tr>\n",
       "    <tr>\n",
       "      <th>142374</th>\n",
       "      <td>Good taste at a great value...</td>\n",
       "      <td>This is a smooth, easy-going coffee that we lo...</td>\n",
       "    </tr>\n",
       "    <tr>\n",
       "      <th>331581</th>\n",
       "      <td>Surprisingly good!</td>\n",
       "      <td>I have to start with the fact that I was extre...</td>\n",
       "    </tr>\n",
       "    <tr>\n",
       "      <th>122947</th>\n",
       "      <td>Better coffees out there, not much vanilla flavor</td>\n",
       "      <td>This coffee is slightly better than your avera...</td>\n",
       "    </tr>\n",
       "    <tr>\n",
       "      <th>387700</th>\n",
       "      <td>best dog treat-- great for training---  all do...</td>\n",
       "      <td>Freeze dried liver has a hypnotic effect on do...</td>\n",
       "    </tr>\n",
       "    <tr>\n",
       "      <th>368954</th>\n",
       "      <td>Kind Cranberry Almond Bars</td>\n",
       "      <td>I really like all the Kind bar flavors but the...</td>\n",
       "    </tr>\n",
       "    <tr>\n",
       "      <th>405435</th>\n",
       "      <td>I Would Buy Elsewhere</td>\n",
       "      <td>I got my agar agar yesterday, and I feel like ...</td>\n",
       "    </tr>\n",
       "  </tbody>\n",
       "</table>\n",
       "</div>"
      ],
      "text/plain": [
       "                                                  Summary  \\\n",
       "313073                                    Do what it says   \n",
       "65947   Just as good as the more expensive salon shamp...   \n",
       "313593                                    My mom loved it   \n",
       "469438                                              GROSS   \n",
       "520807                                            love it   \n",
       "7890                                          smooth/rich   \n",
       "328740                                   Dog dental chews   \n",
       "442509                           My First Bonsai plant...   \n",
       "274470                               2 dogs, both like it   \n",
       "266262                                  Never felt better   \n",
       "422415                          Healthy and Tastes Great!   \n",
       "417036  Like eating a candy bar...that's mildly good f...   \n",
       "350464                              These are really good   \n",
       "289996                                             YUMM!!   \n",
       "142374                     Good taste at a great value...   \n",
       "331581                                 Surprisingly good!   \n",
       "122947  Better coffees out there, not much vanilla flavor   \n",
       "387700  best dog treat-- great for training---  all do...   \n",
       "368954                         Kind Cranberry Almond Bars   \n",
       "405435                              I Would Buy Elsewhere   \n",
       "\n",
       "                                                     Text  \n",
       "313073  It definitely works.  Be sure to read the pack...  \n",
       "65947   I use Bumble and Bumble (salon brand) and Dove...  \n",
       "313593  I ordered this for my mom for her birthday. Sh...  \n",
       "469438  I didnt like the after taste at all, way to sa...  \n",
       "520807  Love single served cookies and they are a perf...  \n",
       "7890    I like a dark rich coffee and this is a tad di...  \n",
       "328740  <a href=\"http://www.amazon.com/gp/product/B000...  \n",
       "442509  This is my first bonsai plant. I was wondering...  \n",
       "274470  I have 2 dogs and this product is used for 'tr...  \n",
       "266262  I looked into this product for a friend who ha...  \n",
       "422415  Another great organic tomato product from Muir...  \n",
       "417036  According to the package, these are 30% bigger...  \n",
       "350464  These taste very decadent even though they are...  \n",
       "289996  If you like Nougat and Almonds, then this is y...  \n",
       "142374  This is a smooth, easy-going coffee that we lo...  \n",
       "331581  I have to start with the fact that I was extre...  \n",
       "122947  This coffee is slightly better than your avera...  \n",
       "387700  Freeze dried liver has a hypnotic effect on do...  \n",
       "368954  I really like all the Kind bar flavors but the...  \n",
       "405435  I got my agar agar yesterday, and I feel like ...  "
      ]
     },
     "execution_count": 2,
     "metadata": {},
     "output_type": "execute_result"
    }
   ],
   "source": [
    "X_train.head(20)"
   ]
  },
  {
   "cell_type": "markdown",
   "metadata": {},
   "source": [
    "# cleaning the data\n",
    "1. Stemming\n",
    "2. Stop words removal\n",
    "3. Lowering\n",
    "4. Tokenization\n",
    "5. Pruning (Numbers and punctuation)"
   ]
  },
  {
   "cell_type": "code",
   "execution_count": 37,
   "metadata": {
    "collapsed": true
   },
   "outputs": [],
   "source": [
    "from nltk.tokenize import wordpunct_tokenize\n",
    "import string\n",
    "import os\n",
    "import nltk\n",
    "stemmer = PorterStemmer()\n",
    "from nltk.corpus import stopwords\n",
    "path = './tf-idf'\n",
    "\n",
    "def tokenize(text):\n",
    "    tokens = nltk.wordpunct_tokenize(text)\n",
    "    stems = []\n",
    "    for item in tokens:\n",
    "        stems.append(PorterStemmer().stem(item))\n",
    "    return stems\n",
    "\n",
    "#--- Training set\n",
    "\n",
    "for i in range(len(suma_train)):\n",
    "    text_train[i] = text_train[i].lower() + suma_train[i].lower()\n",
    "\n",
    "Y=[]\n",
    "for i in text_train:\n",
    "    Y.append(i.encode(\"utf8\").translate(None, string.punctuation).decode(\"utf8\"))\n",
    "text_train = list(Y)\n",
    "\n",
    "count_vect = CountVectorizer(analyzer='word',tokenizer=tokenize,stop_words='english')\n",
    "X_train_counts = count_vect.fit_transform(text_train)        \n",
    "        \n",
    "tfidf_transformer = TfidfTransformer()\n",
    "X_train_tfidf = tfidf_transformer.fit_transform(X_train_counts)\n",
    "\n",
    "#--- Test set\n",
    "\n",
    "for i in range(len(suma_test)):\n",
    "    text_test[i]=text_test[i].lower() + suma_test[i].lower()\n",
    "\n",
    "Y=[]\n",
    "for i in text_test:\n",
    "    Y.append(i.encode(\"utf8\").translate(None, string.punctuation).decode(\"utf8\"))\n",
    "text_test=list(Y)    \n",
    " \n",
    "X_test_counts = count_vect.transform(text_test)\n",
    "X_test_tfidf = tfidf_transformer.fit_transform(X_test_counts)\n",
    "\n",
    "prediction = dict()"
   ]
  },
  {
   "cell_type": "markdown",
   "metadata": {},
   "source": [
    "# applying multinomial naive bayes"
   ]
  },
  {
   "cell_type": "code",
   "execution_count": 41,
   "metadata": {
    "collapsed": true
   },
   "outputs": [],
   "source": [
    "from sklearn.naive_bayes import MultinomialNB\n",
    "model = MultinomialNB().fit(X_train_tfidf, Y_train)\n",
    "prediction['Multinomial'] = model.predict(X_test_tfidf)"
   ]
  },
  {
   "cell_type": "markdown",
   "metadata": {},
   "source": [
    "# applying bernoulli's naive bayes"
   ]
  },
  {
   "cell_type": "code",
   "execution_count": 42,
   "metadata": {
    "collapsed": true
   },
   "outputs": [],
   "source": [
    "from sklearn.naive_bayes import BernoulliNB\n",
    "modelB = BernoulliNB().fit(X_train_tfidf, Y_train)\n",
    "prediction['Bernoulli'] = modelB.predict(X_test_tfidf)"
   ]
  },
  {
   "cell_type": "markdown",
   "metadata": {},
   "source": [
    "# applying logistic regression"
   ]
  },
  {
   "cell_type": "code",
   "execution_count": 43,
   "metadata": {
    "collapsed": true
   },
   "outputs": [],
   "source": [
    "\n",
    "from sklearn import linear_model\n",
    "logreg = linear_model.LogisticRegression(C=1e5)\n",
    "logreg.fit(X_train_tfidf, Y_train)\n",
    "prediction['Logistic'] = logreg.predict(X_test_tfidf)\n",
    "logreg_prob=logreg.predict_proba(X_test_tfidf)"
   ]
  },
  {
   "cell_type": "markdown",
   "metadata": {},
   "source": [
    "# AUROC"
   ]
  },
  {
   "cell_type": "code",
   "execution_count": 44,
   "metadata": {},
   "outputs": [
    {
     "data": {
      "image/png": "[encoded data removed]",
      "text/plain": [
       "<matplotlib.figure.Figure at 0x2c3297b8>"
      ]
     },
     "metadata": {},
     "output_type": "display_data"
    }
   ],
   "source": [
    "import numpy as np\n",
    "import matplotlib.pyplot as plt\n",
    "def formatt(x):\n",
    "    if x == 'negative':\n",
    "        return 0\n",
    "    return 1\n",
    "vfunc = np.vectorize(formatt)\n",
    "\n",
    "cmp = 0\n",
    "colors = ['b', 'g', 'y', 'm', 'k']\n",
    "for model, predicted in prediction.items():\n",
    "    false_positive_rate, true_positive_rate, thresholds = roc_curve(Y_test.map(formatt), vfunc(predicted))\n",
    "    roc_auc = auc(false_positive_rate, true_positive_rate)\n",
    "    plt.plot(false_positive_rate, true_positive_rate, colors[cmp], label='%s: AUC %0.2f'% (model,roc_auc))\n",
    "    cmp += 1\n",
    "\n",
    "plt.title('Classifiers comparaison with ROC')\n",
    "plt.legend(loc='lower right')\n",
    "plt.plot([0,1],[0,1],'r--')\n",
    "plt.xlim([-0.1,1.2])\n",
    "plt.ylim([-0.1,1.2])\n",
    "plt.ylabel('True Positive Rate')\n",
    "plt.xlabel('False Positive Rate')\n",
    "plt.show()"
   ]
  },
  {
   "cell_type": "code",
   "execution_count": 45,
   "metadata": {},
   "outputs": [
    {
     "name": "stdout",
     "output_type": "stream",
     "text": [
      "             precision    recall  f1-score   support\n",
      "\n",
      "   positive       0.82      0.82      0.82     16520\n",
      "   negative       0.97      0.97      0.97     88643\n",
      "\n",
      "avg / total       0.94      0.94      0.94    105163\n",
      "\n"
     ]
    }
   ],
   "source": [
    "print(metrics.classification_report(Y_test, prediction['Logistic'], target_names = [\"positive\", \"negative\"]))"
   ]
  },
  {
   "cell_type": "markdown",
   "metadata": {},
   "source": [
    "# confusion matrices"
   ]
  },
  {
   "cell_type": "markdown",
   "metadata": {},
   "source": [
    "# confusion matrix-Logistic"
   ]
  },
  {
   "cell_type": "code",
   "execution_count": 46,
   "metadata": {},
   "outputs": [
    {
     "data": {
      "image/png": "[encoded data removed]",
      "text/plain": [
       "<matplotlib.figure.Figure at 0x5eedebe0>"
      ]
     },
     "metadata": {},
     "output_type": "display_data"
    },
    {
     "data": {
      "image/png": "[encoded data removed]",
      "text/plain": [
       "<matplotlib.figure.Figure at 0x5eedefd0>"
      ]
     },
     "metadata": {},
     "output_type": "display_data"
    }
   ],
   "source": [
    "def plot_confusion_matrix(cm, title='Confusion matrix', cmap=plt.cm.Blues):\n",
    "    plt.imshow(cm, interpolation='nearest', cmap=cmap)\n",
    "    plt.title(title)\n",
    "    plt.colorbar()\n",
    "    tick_marks = np.arange(len(set(Sentiment)))\n",
    "    plt.xticks(tick_marks, set(Sentiment), rotation=45)\n",
    "    plt.yticks(tick_marks, set(Sentiment))\n",
    "    plt.tight_layout()\n",
    "    plt.ylabel('True label')\n",
    "    plt.xlabel('Predicted label')\n",
    "    \n",
    "# Compute confusion matrix\n",
    "cm = confusion_matrix(Y_test, prediction['Logistic'])\n",
    "np.set_printoptions(precision=2)\n",
    "plt.figure()\n",
    "plot_confusion_matrix(cm)    \n",
    "\n",
    "cm_normalized = cm.astype('float') / cm.sum(axis=1)[:, np.newaxis]\n",
    "plt.figure()\n",
    "plot_confusion_matrix(cm_normalized, title='Normalized confusion matrix')\n",
    "\n",
    "plt.show()"
   ]
  },
  {
   "cell_type": "markdown",
   "metadata": {},
   "source": [
    "the positive-positive and negative-negative boxess are darker. so the prediction model works well."
   ]
  },
  {
   "cell_type": "markdown",
   "metadata": {},
   "source": [
    "# confusion matrix-Bernoulli"
   ]
  },
  {
   "cell_type": "code",
   "execution_count": 47,
   "metadata": {},
   "outputs": [
    {
     "data": {
      "image/png": "[encoded data removed]",
      "text/plain": [
       "<matplotlib.figure.Figure at 0x52a56d30>"
      ]
     },
     "metadata": {},
     "output_type": "display_data"
    },
    {
     "data": {
      "image/png": "[encoded data removed]",
      "text/plain": [
       "<matplotlib.figure.Figure at 0x3d2d0c18>"
      ]
     },
     "metadata": {},
     "output_type": "display_data"
    }
   ],
   "source": [
    "def plot_confusion_matrix(cm, title='Confusion matrix', cmap=plt.cm.Blues):\n",
    "    plt.imshow(cm, interpolation='nearest', cmap=cmap)\n",
    "    plt.title(title)\n",
    "    plt.colorbar()\n",
    "    tick_marks = np.arange(len(set(Sentiment)))\n",
    "    plt.xticks(tick_marks, set(Sentiment), rotation=45)\n",
    "    plt.yticks(tick_marks, set(Sentiment))\n",
    "    plt.tight_layout()\n",
    "    plt.ylabel('True label')\n",
    "    plt.xlabel('Predicted label')\n",
    "    \n",
    "# Compute confusion matrix\n",
    "cm = confusion_matrix(Y_test, prediction['Bernoulli'])\n",
    "np.set_printoptions(precision=2)\n",
    "plt.figure()\n",
    "plot_confusion_matrix(cm)    \n",
    "\n",
    "cm_normalized = cm.astype('float') / cm.sum(axis=1)[:, np.newaxis]\n",
    "plt.figure()\n",
    "plot_confusion_matrix(cm_normalized, title='Normalized confusion matrix')\n",
    "\n",
    "plt.show()"
   ]
  },
  {
   "cell_type": "markdown",
   "metadata": {},
   "source": [
    "this model also works fines as the diagonal boxes are of darker shade"
   ]
  },
  {
   "cell_type": "markdown",
   "metadata": {},
   "source": [
    " # confusion matrix-multinomial"
   ]
  },
  {
   "cell_type": "code",
   "execution_count": 48,
   "metadata": {},
   "outputs": [
    {
     "data": {
      "image/png": "[encoded data removed]",
      "text/plain": [
       "<matplotlib.figure.Figure at 0x5d58b198>"
      ]
     },
     "metadata": {},
     "output_type": "display_data"
    },
    {
     "data": {
      "image/png": "[encoded data removed]",
      "text/plain": [
       "<matplotlib.figure.Figure at 0x2e90d6d8>"
      ]
     },
     "metadata": {},
     "output_type": "display_data"
    }
   ],
   "source": [
    "def plot_confusion_matrix(cm, title='Confusion matrix', cmap=plt.cm.Blues):\n",
    "    plt.imshow(cm, interpolation='nearest', cmap=cmap)\n",
    "    plt.title(title)\n",
    "    plt.colorbar()\n",
    "    tick_marks = np.arange(len(set(Sentiment)))\n",
    "    plt.xticks(tick_marks, set(Sentiment), rotation=45)\n",
    "    plt.yticks(tick_marks, set(Sentiment))\n",
    "    plt.tight_layout()\n",
    "    plt.ylabel('True label')\n",
    "    plt.xlabel('Predicted label')\n",
    "    \n",
    "# Compute confusion matrix\n",
    "cm = confusion_matrix(Y_test, prediction['Multinomial'])\n",
    "np.set_printoptions(precision=2)\n",
    "plt.figure()\n",
    "plot_confusion_matrix(cm)    \n",
    "\n",
    "cm_normalized = cm.astype('float') / cm.sum(axis=1)[:, np.newaxis]\n",
    "plt.figure()\n",
    "plot_confusion_matrix(cm_normalized, title='Normalized confusion matrix')\n",
    "\n",
    "plt.show()"
   ]
  },
  {
   "cell_type": "markdown",
   "metadata": {},
   "source": [
    "this is multinomial naive bayes. this model performs very average on the given dataset"
   ]
  },
  {
   "cell_type": "markdown",
   "metadata": {},
   "source": [
    "# Logistic regression with regularizer"
   ]
  },
  {
   "cell_type": "code",
   "execution_count": 49,
   "metadata": {
    "collapsed": true
   },
   "outputs": [],
   "source": [
    "\n",
    "from sklearn import linear_model\n",
    "logreg = linear_model.LogisticRegression(penalty='l2',C=1e5)\n",
    "logreg.fit(X_train_tfidf, Y_train)\n",
    "prediction['Logistic(l2)'] = logreg.predict(X_test_tfidf)"
   ]
  },
  {
   "cell_type": "code",
   "execution_count": 50,
   "metadata": {},
   "outputs": [
    {
     "name": "stdout",
     "output_type": "stream",
     "text": [
      "             precision    recall  f1-score   support\n",
      "\n",
      "   positive       0.82      0.82      0.82     16520\n",
      "   negative       0.97      0.97      0.97     88643\n",
      "\n",
      "avg / total       0.94      0.94      0.94    105163\n",
      "\n"
     ]
    }
   ],
   "source": [
    "print(metrics.classification_report(Y_test, prediction['Logistic(l2)'], target_names = [\"positive\", \"negative\"]))"
   ]
  },
  {
   "cell_type": "code",
   "execution_count": 19,
   "metadata": {
    "collapsed": true
   },
   "outputs": [],
   "source": [
    "\n",
    "from sklearn import linear_model\n",
    "logreg = linear_model.LogisticRegression(penalty='l1',C=1e5)\n",
    "logreg.fit(X_train_tfidf, Y_train)\n",
    "prediction['Logistic(l1)'] = logreg.predict(X_test_tfidf)"
   ]
  },
  {
   "cell_type": "code",
   "execution_count": 20,
   "metadata": {},
   "outputs": [
    {
     "name": "stdout",
     "output_type": "stream",
     "text": [
      "             precision    recall  f1-score   support\n",
      "\n",
      "   positive       0.79      0.78      0.78     16510\n",
      "   negative       0.96      0.96      0.96     88653\n",
      "\n",
      "avg / total       0.93      0.93      0.93    105163\n",
      "\n"
     ]
    }
   ],
   "source": [
    "print(metrics.classification_report(Y_test, prediction['Logistic(l1)'], target_names = [\"positive\", \"negative\"]))"
   ]
  },
  {
   "cell_type": "markdown",
   "metadata": {},
   "source": [
    "l2 regularizer gives better performance than l1 regularizer"
   ]
  },
  {
   "cell_type": "markdown",
   "metadata": {},
   "source": [
    "# SVM"
   ]
  },
  {
   "cell_type": "code",
   "execution_count": 51,
   "metadata": {},
   "outputs": [
    {
     "name": "stdout",
     "output_type": "stream",
     "text": [
      "GridSearchCV took 197.48 seconds for 21 candidate parameter settings.\n",
      "             precision    recall  f1-score   support\n",
      "\n",
      "   positive       0.93      0.39      0.55     16520\n",
      "   negative       0.90      0.99      0.94     88643\n",
      "\n",
      "avg / total       0.90      0.90      0.88    105163\n",
      "\n"
     ]
    }
   ],
   "source": [
    "from sklearn.grid_search import GridSearchCV\n",
    "from sklearn.linear_model import SGDClassifier\n",
    "import time\n",
    "parameters = {'alpha':[0.0001,0.0002,0.0003,0.0004,0.0005,0.0006,0.0007,0.0008,0.0009,0.0010,0.005,0.01,0.02,0.05,0.08,0.1,0.2,0.5,0.8,1.0,2.0]}\n",
    "svc = SGDClassifier(n_jobs=-1,loss='hinge',penalty='l2')\n",
    "grid = GridSearchCV(svc, parameters)\n",
    "start=time.time()\n",
    "grid.fit(X_train_tfidf, Y_train)\n",
    "prediction['SVM'] = grid.predict(X_test_tfidf)\n",
    "print(\"GridSearchCV took %.2f seconds for %d candidate parameter settings.\"\n",
    "      % (time.time() - start, len(grid.grid_scores_)))\n",
    "print (metrics.classification_report(Y_test,prediction['SVM'],target_names=[\"positive\",\"negative\"]))"
   ]
  },
  {
   "cell_type": "markdown",
   "metadata": {},
   "source": [
    "# svm confusion matrix"
   ]
  },
  {
   "cell_type": "code",
   "execution_count": 20,
   "metadata": {},
   "outputs": [
    {
     "data": {
      "image/png": "[encoded data removed]",
      "text/plain": [
       "<matplotlib.figure.Figure at 0x71249be0>"
      ]
     },
     "metadata": {},
     "output_type": "display_data"
    },
    {
     "data": {
      "image/png": "[encoded data removed]",
      "text/plain": [
       "<matplotlib.figure.Figure at 0x713c2e48>"
      ]
     },
     "metadata": {},
     "output_type": "display_data"
    }
   ],
   "source": [
    "import matplotlib.pyplot as plt\n",
    "import numpy as np\n",
    "def plot_confusion_matrix(cm, title='Confusion matrix', cmap=plt.cm.Blues):\n",
    "    plt.imshow(cm, interpolation='nearest', cmap=cmap)\n",
    "    plt.title(title)\n",
    "    plt.colorbar()\n",
    "    tick_marks = np.arange(len(set(Sentiment)))\n",
    "    plt.xticks(tick_marks, set(Sentiment), rotation=45)\n",
    "    plt.yticks(tick_marks, set(Sentiment))\n",
    "    plt.tight_layout()\n",
    "    plt.ylabel('True label')\n",
    "    plt.xlabel('Predicted label')\n",
    "    \n",
    "# Compute confusion matrix\n",
    "cm = confusion_matrix(Y_test, prediction['SVM'])\n",
    "np.set_printoptions(precision=2)\n",
    "plt.figure()\n",
    "plot_confusion_matrix(cm)    \n",
    "\n",
    "cm_normalized = cm.astype('float') / cm.sum(axis=1)[:, np.newaxis]\n",
    "plt.figure()\n",
    "plot_confusion_matrix(cm_normalized, title='Normalized confusion matrix')\n",
    "\n",
    "plt.show()"
   ]
  },
  {
   "cell_type": "markdown",
   "metadata": {},
   "source": [
    "# logloss "
   ]
  },
  {
   "cell_type": "markdown",
   "metadata": {},
   "source": [
    "###  1.logloss for LogisticRegression"
   ]
  },
  {
   "cell_type": "code",
   "execution_count": 52,
   "metadata": {},
   "outputs": [
    {
     "name": "stdout",
     "output_type": "stream",
     "text": [
      "0.445340972524\n"
     ]
    }
   ],
   "source": [
    "print metrics.log_loss(Y_test,logreg_prob,eps=1e-15,normalize=True,sample_weight=None,labels=None)"
   ]
  },
  {
   "cell_type": "markdown",
   "metadata": {},
   "source": [
    "### 2.logloss for Bernoulli naive bayes"
   ]
  },
  {
   "cell_type": "code",
   "execution_count": 53,
   "metadata": {},
   "outputs": [
    {
     "name": "stdout",
     "output_type": "stream",
     "text": [
      "0.500834314023\n"
     ]
    }
   ],
   "source": [
    "modelB_prob = modelB.predict_proba(X_test_tfidf)\n",
    "print metrics.log_loss(Y_test,modelB_prob,eps=1e-15,normalize=True,sample_weight=None,labels=None)"
   ]
  },
  {
   "cell_type": "markdown",
   "metadata": {},
   "source": [
    "### 3.logloss for SVM\n"
   ]
  },
  {
   "cell_type": "markdown",
   "metadata": {},
   "source": [
    "#### logloss cannot be computed for loss type='hinge'(python 2.7)"
   ]
  }
 ],
 "metadata": {
  "kernelspec": {
   "display_name": "Python 2",
   "language": "python",
   "name": "python2"
  },
  "language_info": {
   "codemirror_mode": {
    "name": "ipython",
    "version": 2
   },
   "file_extension": ".py",
   "mimetype": "text/x-python",
   "name": "python",
   "nbconvert_exporter": "python",
   "pygments_lexer": "ipython2",
   "version": "2.7.13"
  }
 },
 "nbformat": 4,
 "nbformat_minor": 2
}
